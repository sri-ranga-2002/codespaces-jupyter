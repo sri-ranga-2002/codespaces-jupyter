{
 "cells": [
  {
   "cell_type": "code",
   "execution_count": 1,
   "metadata": {},
   "outputs": [],
   "source": [
    "import numpy as np#for arrays and matrices\n",
    "import pandas as pd#for web apis and other functionalities\n",
    "import matplotlib.pyplot as plt#graph polt and classifications to plot graphs\n",
    "import torch#frame work used to compute graphs \n",
    "from torchvision import datasets, transforms, models  # datsets  , transforms\n",
    "from torch.utils.data.sampler import SubsetRandomSampler\n",
    "import torch.nn as nn #to work with nn outputs\n",
    "import torch.nn.functional as F #to work with nn functionalities\n",
    "from datetime import datetime\n",
    "import zipfile\n",
    "import os\n",
    "from torchsummary import summary\n",
    "from PIL import Image\n",
    "import torchvision.transforms.functional as TF\n"
   ]
  }
 ],
 "metadata": {
  "kernelspec": {
   "display_name": "Python 3",
   "language": "python",
   "name": "python3"
  },
  "language_info": {
   "codemirror_mode": {
    "name": "ipython",
    "version": 3
   },
   "file_extension": ".py",
   "mimetype": "text/x-python",
   "name": "python",
   "nbconvert_exporter": "python",
   "pygments_lexer": "ipython3",
   "version": "3.10.4"
  },
  "orig_nbformat": 4,
  "vscode": {
   "interpreter": {
    "hash": "3ad933181bd8a04b432d3370b9dc3b0662ad032c4dfaa4e4f1596c548f763858"
   }
  }
 },
 "nbformat": 4,
 "nbformat_minor": 2
}
