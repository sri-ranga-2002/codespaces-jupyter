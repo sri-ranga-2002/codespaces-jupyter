{
 "cells": [
  {
   "cell_type": "code",
   "execution_count": 1,
   "metadata": {},
   "outputs": [],
   "source": [
    "import numpy as np#for arrays and matrices\n",
    "import pandas as pd#for web apis and other functionalities\n",
    "import matplotlib.pyplot as plt#graph polt and classifications to plot graphs\n",
    "import torch#frame work used to compute graphs \n",
    "from torchvision import datasets, transforms, models  # datsets  , transforms\n",
    "from torch.utils.data.sampler import SubsetRandomSampler\n",
    "import torch.nn as nn #to work with nn outputs\n",
    "import torch.nn.functional as F #to work with nn functionalities\n",
    "from datetime import datetime\n",
    "import zipfile\n",
    "import os\n",
    "from torchsummary import summary\n",
    "from PIL import Image\n",
    "import torchvision.transforms.functional as TF\n"
   ]
  },
  {
   "attachments": {},
   "cell_type": "markdown",
   "metadata": {},
   "source": [
    "loading the data"
   ]
  },
  {
   "cell_type": "code",
   "execution_count": 2,
   "metadata": {},
   "outputs": [
    {
     "name": "stdout",
     "output_type": "stream",
     "text": [
      "--2022-12-26 10:59:28--  https://data.mendeley.com/public-files/datasets/tywbtsjrjv/files/b4e3a32f-c0bd-4060-81e9-6144231f2520/file_downloaded\n",
      "Resolving data.mendeley.com (data.mendeley.com)... 162.159.133.86, 162.159.130.86\n",
      "Connecting to data.mendeley.com (data.mendeley.com)|162.159.133.86|:443... connected.\n",
      "HTTP request sent, awaiting response... 302 Found\n",
      "Location: https://prod-dcd-datasets-public-files-eu-west-1.s3.eu-west-1.amazonaws.com/349ac012-2948-4172-bbba-3bf8f76596fd [following]\n",
      "--2022-12-26 10:59:29--  https://prod-dcd-datasets-public-files-eu-west-1.s3.eu-west-1.amazonaws.com/349ac012-2948-4172-bbba-3bf8f76596fd\n",
      "Resolving prod-dcd-datasets-public-files-eu-west-1.s3.eu-west-1.amazonaws.com (prod-dcd-datasets-public-files-eu-west-1.s3.eu-west-1.amazonaws.com)... 52.218.30.72, 52.218.109.216, 52.92.2.2, ...\n",
      "Connecting to prod-dcd-datasets-public-files-eu-west-1.s3.eu-west-1.amazonaws.com (prod-dcd-datasets-public-files-eu-west-1.s3.eu-west-1.amazonaws.com)|52.218.30.72|:443... connected.\n",
      "HTTP request sent, awaiting response... 200 OK\n",
      "Length: 949267727 (905M) [application/zip]\n",
      "Saving to: ‘../data/Dataset.zip’\n",
      "\n",
      "../data/Dataset.zip 100%[===================>] 905.29M  15.7MB/s    in 60s     \n",
      "\n",
      "2022-12-26 11:00:30 (15.2 MB/s) - ‘../data/Dataset.zip’ saved [949267727/949267727]\n",
      "\n"
     ]
    }
   ],
   "source": [
    "\n",
    "!wget --no-check-certificate \\\n",
    "    \"https://data.mendeley.com/public-files/datasets/tywbtsjrjv/files/b4e3a32f-c0bd-4060-81e9-6144231f2520/file_downloaded\" \\\n",
    "    -O \"../data/Dataset.zip\"\n",
    "    "
   ]
  },
  {
   "cell_type": "code",
   "execution_count": 3,
   "metadata": {},
   "outputs": [],
   "source": [
    "zip_ref = zipfile.ZipFile('../data/Dataset.zip', 'r') #Opens the zip file in read mode\n",
    "zip_ref.extractall('../data') #Extracts the files into the /tmp folder"
   ]
  }
 ],
 "metadata": {
  "kernelspec": {
   "display_name": "Python 3",
   "language": "python",
   "name": "python3"
  },
  "language_info": {
   "codemirror_mode": {
    "name": "ipython",
    "version": 3
   },
   "file_extension": ".py",
   "mimetype": "text/x-python",
   "name": "python",
   "nbconvert_exporter": "python",
   "pygments_lexer": "ipython3",
   "version": "3.10.4"
  },
  "orig_nbformat": 4,
  "vscode": {
   "interpreter": {
    "hash": "3ad933181bd8a04b432d3370b9dc3b0662ad032c4dfaa4e4f1596c548f763858"
   }
  }
 },
 "nbformat": 4,
 "nbformat_minor": 2
}
